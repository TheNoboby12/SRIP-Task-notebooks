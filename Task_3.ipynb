{
  "nbformat": 4,
  "nbformat_minor": 0,
  "metadata": {
    "colab": {
      "name": "Task#3.ipynb",
      "provenance": [],
      "collapsed_sections": [],
      "mount_file_id": "1HKX9809gxBVp_QgeTNJ5bkeXMw8X4CS8",
      "authorship_tag": "ABX9TyMcN4mWOwuUErH7sDinVIbN",
      "include_colab_link": true
    },
    "kernelspec": {
      "name": "python3",
      "display_name": "Python 3"
    },
    "language_info": {
      "name": "python"
    }
  },
  "cells": [
    {
      "cell_type": "markdown",
      "metadata": {
        "id": "view-in-github",
        "colab_type": "text"
      },
      "source": [
        "<a href=\"https://colab.research.google.com/github/TheNoboby12/SRIP-Task-notebooks/blob/main/Task_3.ipynb\" target=\"_parent\"><img src=\"https://colab.research.google.com/assets/colab-badge.svg\" alt=\"Open In Colab\"/></a>"
      ]
    },
    {
      "cell_type": "markdown",
      "source": [
        "# Implement two hidden layers neural network classifier from scratch in JAX \n",
        "[20 Marks] <br>\n",
        "<br>\n",
        "● Two hidden layers here means (input - hidden1 - hidden2 - output).\n",
        "\n",
        "● You must not use flax, optax, or any other library for this task.\n",
        "\n",
        "● Use MNIST dataset with 80:20 train:test split.\n",
        "\n",
        "● Manually optimize the number of neurons in hidden layers.\n",
        "\n",
        "● Use gradient descent from scratch to optimize your network. You should use the Pytree concept of JAX to do this elegantly.\n",
        "\n",
        "● Plot loss v/s iterations curve with matplotlib.\n",
        "\n",
        "● Evaluate the model on test data with various classification metrics and briefly discuss their implications.\n"
      ],
      "metadata": {
        "id": "_Y0ywaIHSPG9"
      }
    },
    {
      "cell_type": "markdown",
      "source": [
        "# **Solution**\n",
        " This notebook contain implementation"
      ],
      "metadata": {
        "id": "8T0PIW-3Sy1b"
      }
    },
    {
      "cell_type": "markdown",
      "source": [
        "Importing all Libraries needed \n",
        "* sklearn\n",
        "* jax\n",
        "\n",
        "\n"
      ],
      "metadata": {
        "id": "-rSj4PfDE-7Y"
      }
    },
    {
      "cell_type": "code",
      "source": [
        "import jax.numpy as jnp\n",
        "# special transform function\n",
        "from jax import grad, jit, vmap, value_and_grad,soft_pmap\n",
        "from sklearn.model_selection import train_test_split"
      ],
      "metadata": {
        "id": "Keb_jh-RmqDI"
      },
      "execution_count": 40,
      "outputs": []
    },
    {
      "cell_type": "markdown",
      "source": [
        "# Dataset\n",
        "I have load MNIST dataset from mnist.npz file. \n",
        "then made a fuction to extract it. \n",
        "it give result "
      ],
      "metadata": {
        "id": "fK_F3zmIFbZo"
      }
    },
    {
      "cell_type": "code",
      "execution_count": 41,
      "metadata": {
        "id": "nx-uPuiVSD3T"
      },
      "outputs": [],
      "source": [
        "\n",
        "\n",
        "def get_mnist():\n",
        "    with jnp.load(f'/content/drive/MyDrive/mnist.npz') as f:\n",
        "        images, labels = f[\"x_train\"], f[\"y_train\"]\n",
        "    images = images.astype(\"float32\").reshape([-1,28,28,1]) / 255\n",
        "    images = jnp.reshape(images, (images.shape[0], images.shape[1] * images.shape[2]))\n",
        "    labels = jnp.eye(10)[labels]\n",
        "    return images, labels"
      ]
    },
    {
      "cell_type": "markdown",
      "source": [
        "We created a MLP class which stand for MultiLayer Perceptron. It has initial variablle assigned. then it has following fuction for this tasks:\n",
        "1.   forwad Propagation\n",
        "2.   backward Propagation\n",
        "3.   training part\n",
        "4. gradient descent\n",
        "5. sigmoid function\n",
        "6. sigmoid derivatives\n",
        "7. Mean Square error fuction\n"
      ],
      "metadata": {
        "id": "frwmqPqiHiHm"
      }
    },
    {
      "cell_type": "code",
      "source": [
        "import numpy as np\n",
        "from random import random\n",
        "import matplotlib.pyplot as plt\n",
        "import jax\n",
        "\n",
        "class MLP(object):\n",
        "    \"\"\"A Multilayer Perceptron class.\n",
        "    \"\"\"\n",
        "\n",
        "    def __init__(self, num_inputs, hidden_layers, num_outputs):\n",
        "        \"\"\"Constructor for the MLP. Takes the number of inputs,\n",
        "            a variable number of hidden layers, and number of outputs\n",
        "        Args:\n",
        "            num_inputs (int): Number of inputs\n",
        "            hidden_layers (list): A list of ints for the hidden layers\n",
        "            num_outputs (int): Number of outputs\n",
        "        \"\"\"\n",
        "\n",
        "        self.num_inputs = num_inputs\n",
        "        self.hidden_layers = hidden_layers\n",
        "        self.num_outputs = num_outputs\n",
        "\n",
        "        key = jax.random.PRNGKey(0)\n",
        "\n",
        "        # create a generic representation of the layers\n",
        "        layers = [num_inputs] + hidden_layers + [num_outputs]\n",
        "\n",
        "        # create random connection weights for the layers\n",
        "        weights = []\n",
        "        for i in range(len(layers) - 1):\n",
        "            w = jax.random.uniform(key,shape=(layers[i], layers[i + 1]))\n",
        "            weights.append(w)\n",
        "        self.weights = weights\n",
        "\n",
        "        # save derivatives per layer\n",
        "        derivatives = []\n",
        "        for i in range(len(layers) - 1):\n",
        "            d = jnp.zeros((layers[i], layers[i + 1]))\n",
        "            derivatives.append(d)\n",
        "        self.derivatives = derivatives\n",
        "\n",
        "        # save activations per layer\n",
        "        activations = []\n",
        "        for i in range(len(layers)):\n",
        "            a = jnp.zeros(layers[i])\n",
        "            activations.append(a)\n",
        "        self.activations = activations\n",
        "\n",
        "\n",
        "    def forward_propagate(self, inputs):\n",
        "        \"\"\"Computes forward propagation of the network based on input signals.\n",
        "        Args:\n",
        "            inputs (ndarray): Input signals\n",
        "        Returns:\n",
        "            activations (ndarray): Output values\n",
        "        \"\"\"\n",
        "\n",
        "        # the input layer activation is just the input itself\n",
        "        activations = inputs\n",
        "\n",
        "        # save the activations for backpropogation\n",
        "        self.activations[0] = activations\n",
        "\n",
        "        # iterate through the network layers\n",
        "        for i, w in enumerate(self.weights):\n",
        "            # calculate matrix multiplication between previous activation and weight matrix\n",
        "            net_inputs = jnp.dot(activations, w)\n",
        "\n",
        "            # apply sigmoid activation function\n",
        "            activations = self._sigmoid(net_inputs)\n",
        "\n",
        "            # save the activations for backpropogation\n",
        "            self.activations[i + 1] = activations\n",
        "\n",
        "        # return output layer activation\n",
        "        return activations\n",
        "\n",
        "\n",
        "    def back_propagate(self, error):\n",
        "        \"\"\"Backpropogates an error signal.\n",
        "        Args:\n",
        "            error (ndarray): The error to backprop.\n",
        "        Returns:\n",
        "            error (ndarray): The final error of the input\n",
        "        \"\"\"\n",
        "\n",
        "        # iterate backwards through the network layers\n",
        "        for i in reversed(range(len(self.derivatives))):\n",
        "\n",
        "            # get activation for previous layer\n",
        "            activations = self.activations[i+1]\n",
        "\n",
        "            # apply sigmoid derivative function\n",
        "            delta = error * self._sigmoid_derivative(activations)\n",
        "\n",
        "            # reshape delta as to have it as a 2d array\n",
        "            delta_re = delta.reshape(delta.shape[0], -1).T\n",
        "\n",
        "            # get activations for current layer\n",
        "            current_activations = self.activations[i]\n",
        "\n",
        "            # reshape activations as to have them as a 2d column matrix\n",
        "            current_activations = current_activations.reshape(current_activations.shape[0],-1)\n",
        "\n",
        "            # save derivative after applying matrix multiplication\n",
        "            self.derivatives[i] = jnp.dot(current_activations, delta_re)\n",
        "\n",
        "            # backpropogate the next error\n",
        "            error = jnp.dot(delta, self.weights[i].T)\n",
        "\n",
        "\n",
        "    def train(self, inputs, targets, epochs, learning_rate):\n",
        "        \"\"\"Trains model running forward prop and backprop\n",
        "        Args:\n",
        "            inputs (ndarray): X\n",
        "            targets (ndarray): Y\n",
        "            epochs (int): Num. epochs we want to train the network for\n",
        "            learning_rate (float): Step to apply to gradient descent\n",
        "        \"\"\"\n",
        "        x,y=[],[]\n",
        "        # now enter the training loop\n",
        "        for i in range(epochs):\n",
        "            sum_errors = 0\n",
        "            # x.append(sum_errors / len(items))\n",
        "            #     y.append(i+1)\n",
        "            # iterate through all the training data\n",
        "            for j, input in enumerate(inputs):\n",
        "                target = targets[j]\n",
        "\n",
        "                # activate the network!\n",
        "                output = self.forward_propagate(input)\n",
        "\n",
        "                error = target - output\n",
        "\n",
        "                self.back_propagate(error)\n",
        "\n",
        "                # now perform gradient descent on the derivatives\n",
        "                # (this will update the weights\n",
        "                self.gradient_descent(learning_rate)\n",
        "                # Get the sampled loss\n",
        "\n",
        "                # loss = self._mse(target,output)\n",
        "                # x.append(self._mse(target,output))\n",
        "                # keep track of the MSE for reporting later\n",
        "                sum_errors += self._mse(target, output)\n",
        "                x.append(sum_errors)\n",
        "                y.append(i+1)\n",
        "               \n",
        "\n",
        "            plt.plot(x,y)\n",
        "            plt.xlabel(\"Loss\")\n",
        "            plt.ylabel(\"Iterartion/Epochs\")\n",
        "            # Epoch complete, report the training error\n",
        "            print(\"Error: {} at epoch {}\".format(sum_errors / len(items), i+1))\n",
        "\n",
        "        \n",
        "      \n",
        "        print(\"Training complete!\")\n",
        "        print(\"=====\")\n",
        "        \n",
        "\n",
        "    def gradient_descent(self, learningRate):\n",
        "        \"\"\"Learns by descending the gradient\n",
        "        Args:\n",
        "            learningRate (float): How fast to learn.\n",
        "        \"\"\"\n",
        "        # update the weights by stepping down the gradient\n",
        "        for i in range(len(self.weights)):\n",
        "            weights = self.weights[i]\n",
        "            # weights += jax.tree_multimap(self.derivatives[i] * learningRate)\n",
        "            # We perform one gradient update\n",
        "            weights = jax.tree_multimap(lambda old, grad: old - learningRate * grad,weights, self.derivatives[i])\n",
        "          \n",
        "\n",
        "\n",
        "    def _sigmoid(self, x):\n",
        "        \"\"\"Sigmoid activation function\n",
        "        Args:\n",
        "            x (float): Value to be processed\n",
        "        Returns:\n",
        "            y (float): Output\n",
        "        \"\"\"\n",
        "\n",
        "        y = 1.0 / (1 + jnp.exp(-x))\n",
        "        return y\n",
        "\n",
        "\n",
        "    def _sigmoid_derivative(self, x):\n",
        "        \"\"\"Sigmoid derivative function\n",
        "        Args:\n",
        "            x (float): Value to be processed\n",
        "        Returns:\n",
        "            y (float): Output\n",
        "        \"\"\"\n",
        "        return x * (1.0 - x)\n",
        "\n",
        "\n",
        "    def _mse(self, target, output):\n",
        "        \"\"\"Mean Squared Error loss function\n",
        "        Args:\n",
        "            target (ndarray): The ground trut\n",
        "            output (ndarray): The predicted values\n",
        "        Returns:\n",
        "            (float): Output\n",
        "        \"\"\"\n",
        "        return jnp.average((target - output) ** 2)"
      ],
      "metadata": {
        "id": "pfHQ4qIWmVdN"
      },
      "execution_count": 42,
      "outputs": []
    },
    {
      "cell_type": "markdown",
      "source": [
        "this the Evaluation part of code:-<br>\n",
        "We first traain our model and then test it .<br>\n",
        "data is splited using train_test_split in 80:20 ratio.\n",
        "we call our MLP class assigned values as\n",
        "MLP(number of inputs, number of hidden layer,number of output)"
      ],
      "metadata": {
        "id": "NjCQmXv9IakO"
      }
    },
    {
      "cell_type": "code",
      "source": [
        "imgs,labels = get_mnist()\n",
        "X_train, X_test, y_train, y_test = train_test_split(imgs,labels, test_size=0.2)\n",
        "# TF_CPP_MIN_LOG_LEVEL=0\n",
        "# mlp\n",
        "if __name__==\"__main__\":\n",
        "\n",
        "    # create a dataset to train a network for the sum operation\n",
        "    items = X_train\n",
        "    targets = y_train\n",
        "    \n",
        "    # create a Multilayer Perceptron with one hidden layer\n",
        "    mlp = MLP(784, [128,64], 10)\n",
        "\n",
        "    # train network\n",
        "    learning_rate=0.0002\n",
        "    epochs = 10\n",
        "    mlp.train(items, targets, epochs, learning_rate)\n",
        "\n",
        "    # # create dummy data\n",
        "    input = X_test \n",
        "    target = y_test\n",
        "\n",
        "    # get a prediction\n",
        "    output = mlp.forward_propagate(input)\n",
        "    print()\n",
        "    print(\"Output =  {}\".format( output[0]))"
      ],
      "metadata": {
        "colab": {
          "base_uri": "https://localhost:8080/",
          "height": 522
        },
        "id": "nAQSG1q7mVSM",
        "outputId": "d1fcf994-eddc-41bc-cf2e-85883edfbd56"
      },
      "execution_count": 46,
      "outputs": [
        {
          "output_type": "stream",
          "name": "stdout",
          "text": [
            "Error: 0.8998313546180725 at epoch 1\n",
            "Error: 0.8998313546180725 at epoch 2\n",
            "Error: 0.8998313546180725 at epoch 3\n",
            "Error: 0.8998313546180725 at epoch 4\n",
            "Error: 0.8998313546180725 at epoch 5\n",
            "Error: 0.8998313546180725 at epoch 6\n",
            "Error: 0.8998313546180725 at epoch 7\n",
            "Error: 0.8998313546180725 at epoch 8\n",
            "Error: 0.8998313546180725 at epoch 9\n",
            "Error: 0.8998313546180725 at epoch 10\n",
            "Training complete!\n",
            "=====\n",
            "\n",
            "Output =  [1. 1. 1. 1. 1. 1. 1. 1. 1. 1.]\n"
          ]
        },
        {
          "output_type": "display_data",
          "data": {
            "text/plain": [
              "<Figure size 432x288 with 1 Axes>"
            ],
            "image/png": "[encoded data removed]"
          },
          "metadata": {
            "needs_background": "light"
          }
        }
      ]
    }
  ]
}